{
 "cells": [
  {
   "cell_type": "code",
   "execution_count": 1,
   "metadata": {},
   "outputs": [],
   "source": [
    "import pandas as pd\n",
    "import numpy as np"
   ]
  },
  {
   "cell_type": "code",
   "execution_count": 2,
   "metadata": {},
   "outputs": [],
   "source": [
    "class Sum:\n",
    "    def __init__(self):\n",
    "        self.res = np.array([0])\n",
    "\n",
    "    def reset(self):\n",
    "        self.res = np.array([0])\n",
    "\n",
    "    def find_max(self):\n",
    "        print(f\"{np.max(self.res)} at position {np.argmax(self.res) + 1}\")\n",
    "\n",
    "    def find_top_n(self, n):\n",
    "        top_n = self.res[np.argpartition(self.res, -1*n)[::-1]][:n]\n",
    "        print(top_n)\n",
    "        print(top_n.sum())\n",
    "\n",
    "    def add_one(self,line):\n",
    "        line = line.strip()\n",
    "        if line:\n",
    "            self.res[-1] += int(line)\n",
    "        else:\n",
    "            self.res = np.append(self.res, 0)\n",
    "\n",
    "    def result(self):\n",
    "        return self.res\n",
    "\n",
    "\n",
    "\n",
    "sum_list = Sum()"
   ]
  },
  {
   "cell_type": "code",
   "execution_count": 3,
   "metadata": {},
   "outputs": [],
   "source": [
    "sum_list.reset()\n",
    "for s in \"44\\n\", \"22\\n\", \"\\n\", \"14\\n\", \"\\n\", \"11\\n\", \"90\\n\", \"\\n\", \"54\\n\":\n",
    "    sum_list.add_one(s)"
   ]
  },
  {
   "cell_type": "code",
   "execution_count": 4,
   "metadata": {},
   "outputs": [
    {
     "name": "stdout",
     "output_type": "stream",
     "text": [
      "101 at position 3\n"
     ]
    }
   ],
   "source": [
    "sum_list.find_max()"
   ]
  },
  {
   "cell_type": "code",
   "execution_count": 5,
   "metadata": {},
   "outputs": [
    {
     "data": {
      "text/plain": [
       "array([ 66,  14, 101,  54])"
      ]
     },
     "execution_count": 5,
     "metadata": {},
     "output_type": "execute_result"
    }
   ],
   "source": [
    "sum_list.result()"
   ]
  },
  {
   "cell_type": "code",
   "execution_count": 6,
   "metadata": {},
   "outputs": [
    {
     "name": "stdout",
     "output_type": "stream",
     "text": [
      "[101  66]\n",
      "167\n"
     ]
    }
   ],
   "source": [
    "sum_list.find_top_n(2)"
   ]
  },
  {
   "cell_type": "code",
   "execution_count": 7,
   "metadata": {},
   "outputs": [],
   "source": [
    "sum_list.reset()\n",
    "with open(\"input_1.txt\", \"r\") as f:\n",
    "    for line in f:\n",
    "        sum_list.add_one(line)\n"
   ]
  },
  {
   "cell_type": "code",
   "execution_count": 8,
   "metadata": {},
   "outputs": [
    {
     "name": "stdout",
     "output_type": "stream",
     "text": [
      "67658 at position 216\n"
     ]
    }
   ],
   "source": [
    "sum_list.find_max()"
   ]
  },
  {
   "cell_type": "code",
   "execution_count": 9,
   "metadata": {},
   "outputs": [
    {
     "name": "stdout",
     "output_type": "stream",
     "text": [
      "[67658 67344 65156]\n",
      "200158\n"
     ]
    }
   ],
   "source": [
    "sum_list.find_top_n(3)"
   ]
  },
  {
   "cell_type": "code",
   "execution_count": null,
   "metadata": {},
   "outputs": [],
   "source": []
  }
 ],
 "metadata": {
  "kernelspec": {
   "display_name": "base",
   "language": "python",
   "name": "python3"
  },
  "language_info": {
   "codemirror_mode": {
    "name": "ipython",
    "version": 3
   },
   "file_extension": ".py",
   "mimetype": "text/x-python",
   "name": "python",
   "nbconvert_exporter": "python",
   "pygments_lexer": "ipython3",
   "version": "3.9.5"
  },
  "orig_nbformat": 4,
  "vscode": {
   "interpreter": {
    "hash": "267a425285626f162e8dbac0e72a3103fc15fe1856529c1140c5b196b5352764"
   }
  }
 },
 "nbformat": 4,
 "nbformat_minor": 2
}
