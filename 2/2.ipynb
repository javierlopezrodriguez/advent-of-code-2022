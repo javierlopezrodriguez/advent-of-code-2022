{
 "cells": [
  {
   "cell_type": "code",
   "execution_count": 1,
   "metadata": {},
   "outputs": [],
   "source": [
    "class RPS:\n",
    "    def __init__(self):\n",
    "        self.translation = {\"A\": \"Rock\",\n",
    "                            \"B\": \"Paper\",\n",
    "                            \"C\": \"Scissors\",\n",
    "                            \"X\": \"Rock\",\n",
    "                            \"Y\": \"Paper\",\n",
    "                            \"Z\": \"Scissors\",}\n",
    "        self.values = {\"Rock\": 1,\n",
    "                       \"Paper\": 2,\n",
    "                       \"Scissors\": 3,}\n",
    "        self.score = 0\n",
    "    \n",
    "    def reset(self):\n",
    "        self.score = 0\n",
    "                    \n",
    "    def add_one(self, line):\n",
    "        left, right = line.split(\" \")\n",
    "        left = self.translate(left)\n",
    "        right = self.translate(right)\n",
    "\n",
    "        self.score += self.get_indiv_score(right) + self.get_match_score(left, right)\n",
    "\n",
    "    def run(self, file):\n",
    "        with open(file, \"r\") as f:\n",
    "            for line in f:\n",
    "                line = line.strip()\n",
    "                self.add_one(line)\n",
    "\n",
    "    def translate(self, letter):\n",
    "        return self.translation[letter]\n",
    "\n",
    "    def get_indiv_score(self, rps):\n",
    "        return self.values[rps]\n",
    "\n",
    "    def get_match_score(self, left, right):\n",
    "        if left == right: # draw\n",
    "            return 3\n",
    "        elif (left == \"Rock\" and right == \"Scissors\") or (left == \"Scissors\" and right == \"Paper\") or (left == \"Paper\" and right == \"Rock\"): # loss\n",
    "            return 0\n",
    "        else:\n",
    "            return 6\n",
    "\n",
    "\n"
   ]
  },
  {
   "cell_type": "code",
   "execution_count": 2,
   "metadata": {},
   "outputs": [
    {
     "data": {
      "text/plain": [
       "15422"
      ]
     },
     "execution_count": 2,
     "metadata": {},
     "output_type": "execute_result"
    }
   ],
   "source": [
    "rps = RPS()\n",
    "rps.run(\"input_2.txt\")\n",
    "rps.score"
   ]
  },
  {
   "cell_type": "code",
   "execution_count": 3,
   "metadata": {},
   "outputs": [],
   "source": [
    "class RPS2:\n",
    "    def __init__(self):\n",
    "        self.translation = {\"A\": \"Rock\",\n",
    "                            \"B\": \"Paper\",\n",
    "                            \"C\": \"Scissors\",}\n",
    "        self.values = {\"Rock\": 1,\n",
    "                       \"Paper\": 2,\n",
    "                       \"Scissors\": 3,}\n",
    "        self.results = {\"X\": 0, # lose\n",
    "                        \"Y\": 3, # draw\n",
    "                        \"Z\": 6} # win\n",
    "        self.score = 0\n",
    "\n",
    "        # know which is the right option, given the left option and whether we have to lose, draw or win\n",
    "        self.left_input = [\"Rock\", \"Paper\", \"Scissors\"]\n",
    "        self.lose_to_left_input = [\"Scissors\", \"Rock\", \"Paper\"]\n",
    "        self.win_to_left_input = [\"Paper\", \"Scissors\", \"Rock\"]\n",
    "    \n",
    "    def reset(self):\n",
    "        self.score = 0\n",
    "                    \n",
    "    def add_one(self, line):\n",
    "        left, right = line.split(\" \")\n",
    "\n",
    "        self.score += self.get_indiv_score(left, right) + self.get_match_score(right)\n",
    "\n",
    "    def run(self, file):\n",
    "        with open(file, \"r\") as f:\n",
    "            for line in f:\n",
    "                line = line.strip()\n",
    "                self.add_one(line)\n",
    "\n",
    "    def translate(self, letter):\n",
    "        return self.translation[letter]\n",
    "\n",
    "    def get_indiv_score(self, left, right):\n",
    "        # we don't know whether the right is Rock, Paper or Scissors directly\n",
    "        \n",
    "        left = self.translate(left) # A, B, C to Rock, Paper, Scissors\n",
    "        right_options = {\"X\": self.lose_to_left_input, \"Y\": self.left_input, \"Z\": self.win_to_left_input}[right] # X, Y, Z to the list of right options in the same order as the left options\n",
    "        # the right option is in the same position as the left option in its corresponding list\n",
    "        right_rps = right_options[self.left_input.index(left)]\n",
    "        return self.values[right_rps] # (right) Rock, Paper, Scissors to 1, 2, 3\n",
    "\n",
    "    def get_match_score(self, right):\n",
    "        return self.results[right]\n",
    "    "
   ]
  },
  {
   "cell_type": "code",
   "execution_count": 4,
   "metadata": {},
   "outputs": [
    {
     "data": {
      "text/plain": [
       "15442"
      ]
     },
     "execution_count": 4,
     "metadata": {},
     "output_type": "execute_result"
    }
   ],
   "source": [
    "rps = RPS2()\n",
    "rps.run(\"input_2.txt\")\n",
    "rps.score"
   ]
  }
 ],
 "metadata": {
  "kernelspec": {
   "display_name": "base",
   "language": "python",
   "name": "python3"
  },
  "language_info": {
   "codemirror_mode": {
    "name": "ipython",
    "version": 3
   },
   "file_extension": ".py",
   "mimetype": "text/x-python",
   "name": "python",
   "nbconvert_exporter": "python",
   "pygments_lexer": "ipython3",
   "version": "3.9.5"
  },
  "orig_nbformat": 4,
  "vscode": {
   "interpreter": {
    "hash": "267a425285626f162e8dbac0e72a3103fc15fe1856529c1140c5b196b5352764"
   }
  }
 },
 "nbformat": 4,
 "nbformat_minor": 2
}
